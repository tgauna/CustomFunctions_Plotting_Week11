{
 "cells": [
  {
   "cell_type": "markdown",
   "metadata": {},
   "source": [
    "# Week 11 Assignment - Custom Functions and Plotting"
   ]
  },
  {
   "cell_type": "markdown",
   "metadata": {},
   "source": [
    "Write a function that will read in this week's county-level covid data (\"covidData_4.7.20.csv\") and create a line plot showing increases in cumulative case counts or deaths through time for  a particular state. The line plot should have labeled axes and a grid.\n",
    "\n",
    "The function should accept two arguments. The first argument should be the name of the state. The second should indicate whether the user wants to plot case counts or deaths (defaulting to case counts). You will need to write a second function that calculates the case counts per state per day, summing across counties/parishes.\n",
    "\n",
    "As always, remember to document your code, including docstrings for functions.\n",
    "\n",
    "NOTE 1: One thing that tripped me up initially - not all counties/parishes have fips codes in this dataset. So that field may be empty for some lines in the file.\n",
    "\n",
    "NOTE 2: Remember that when you first read from a file, everything is considered a string. To get proper plots, you'll need to convert numbers stored as strings to actual numbers."
   ]
  },
  {
   "cell_type": "code",
   "execution_count": null,
   "metadata": {},
   "outputs": [],
   "source": [
    "# Import needed modules here\n",
    "import re\n",
    "import matplotlib.pyplot as plt\n",
    "\n"
   ]
  },
  {
   "cell_type": "code",
   "execution_count": null,
   "metadata": {},
   "outputs": [],
   "source": [
    "# Your code here...\n",
    "#Need to establish function for state name and statistic \n",
    "#Establish data source\n",
    "def myStateFunc(state=\"Texas\",statistics=\"deaths\"):\n",
    "\n",
    "    data = open(\"../covidData_4.7.20.csv\",\"r\") \n",
    "#Create a dictionary in order to store that data for graph\n",
    "#Create an x-axis for \"State\"\n",
    "#Create a y-axis for \"Statistic\"\n",
    "    \n",
    "    plotDictionary={} #create empty dictionary to store data \n",
    "    xlist=[] \n",
    "    #create empty x-axis data for state \n",
    "    ylist=[] \n",
    "    #create empty y-axis data for count \n",
    "#Use for loop to run through the data and see if the statistic is there and the date it occurred.  Need to add to plotDictionary.\n",
    "#Also need to see \"State\" being searched is present in the line where the statistic occurred.    \n",
    "#Establish a variable for cases and add it to the count for that date, if the date is not there I need to return it as an integer    \n",
    "    for line in data: \n",
    "        if state in line: \n",
    "            date, county, state, fips, cases, deaths=line.split(\",\") \n",
    "            if counts==\"cases\"\n",
    "               myVar=int(cases) \n",
    "            if date in plotDictionary: \n",
    "                plotDictionary[date]=plotDictionary[date]+myVar \n",
    "            else:\n",
    "                plotDictionary[date]=caseInteger  \n",
    "#Return the values in the dictionary and store them in the xlist and ylist    \n",
    "    ylist = list(plotDictionary.values()) \n",
    "    xlist = list(plotDictionary.keys())\n",
    "\n",
    "    return xlist, ylist "
   ]
  },
  {
   "cell_type": "markdown",
   "metadata": {},
   "source": [
    "Write a second function that is similar to the first, but shows increases in cumulative case counts or deaths through time for a particular county/parish in a particular state.\n",
    "\n",
    "The function should accept three arguments. The first argument should be the name of the county/parish. The second should be the name of the state. The third should indicate whether the user wants to plot case counts or deaths (defaulting to case counts).\n",
    "\n",
    "As always, remember to document your code, including docstrings for functions."
   ]
  },
  {
   "cell_type": "code",
   "execution_count": null,
   "metadata": {},
   "outputs": [],
   "source": [
    "# Use your function to create plot here\n",
    "#Call for the function to get input for the county, state, and statistic for the plot\n",
    "#\n",
    "def statsInfo(state, statistics=\"deaths\"):\n",
    "    xaxis, yaxis = stateData(state, statistics)\n",
    "    plt.title(state) \n",
    "    plt.ylabel(statistics) \n",
    "    plt.xlabel(\"Date\")\n",
    "    plt.xticks(rotation=90) \n",
    "    plt.plot(xaxis, yaxis)  \n",
    "    plt.show()\n",
    "    createStatplot(\"Texas\",\"deaths\") "
   ]
  },
  {
   "cell_type": "code",
   "execution_count": null,
   "metadata": {},
   "outputs": [],
   "source": [
    "#Define count data based on specific county for chosen state and statistic\n",
    "#Establish dictionaries for statistics and x,y axis\n",
    "\n",
    "def countyData(county,state,statistics):\n",
    "       data= open(\"../covidData_4.7.20.csv\",\"r\") \n",
    "    plotDictionary={} \n",
    "    xlist=[] \n",
    "    ylist=[] \n",
    "#Run a for loop to determine if county and state are found in a line \n",
    "#Instead of using given statistic-look for cases\n",
    "#If date is found, add the numCases to the number of cases for that day\n",
    "#If the date is not found need to change the numCases to an integer\n",
    "    for line in data: \n",
    "        if state in line and county in line: #if first and second arguments are found in a line \n",
    "            date, county, state, fips, cases, cases=line.split(\",\") \n",
    "            if counts==\"cases\": #specifying to look at death line instead of default \n",
    "                numDeaths=int(deaths) #count the death instance and store as an integer\n",
    "            if date in plotDictionary:  \n",
    "                plotDictionary[date]=plotDictionary[date]+numCases  \n",
    "            else:\n",
    "                plotDictionary[date]=numCases \n",
    "#Use the dictionary list to plot     \n",
    "    xlist = list(plotDictionary.keys()) \n",
    "    ylist = list(plotDictionary.values()) \n",
    "    return xlist, ylist #store the values of lists"
   ]
  },
  {
   "cell_type": "code",
   "execution_count": null,
   "metadata": {},
   "outputs": [],
   "source": [
    "# Use your function to create a plot here\n",
    "def plotCounty(county,state,statistics=\"deaths\"):\n",
    "# Need to create an x,y list based on the numbers found in plotCounty\n",
    "    xaxis, yaxis = pullCountyData(county,state,counts) \n",
    "    plt.title(county+\", \"+state) \n",
    "    plt.ylabel(statistics) \n",
    "    plt.xticks(rotation=90) \n",
    "    plt.xlabel(\"Date\") \n",
    "    plt.plot(xaxis, yaxis)  \n",
    "    plt.show() \n",
    "plotCounty(\"Tom Green\",\"Texas\",\"deaths\")"
   ]
  },
  {
   "cell_type": "code",
   "execution_count": null,
   "metadata": {},
   "outputs": [],
   "source": []
  }
 ],
 "metadata": {
  "kernelspec": {
   "display_name": "Python 3",
   "language": "python",
   "name": "python3"
  },
  "language_info": {
   "codemirror_mode": {
    "name": "ipython",
    "version": 3
   },
   "file_extension": ".py",
   "mimetype": "text/x-python",
   "name": "python",
   "nbconvert_exporter": "python",
   "pygments_lexer": "ipython3",
   "version": "3.6.4"
  }
 },
 "nbformat": 4,
 "nbformat_minor": 4
}
